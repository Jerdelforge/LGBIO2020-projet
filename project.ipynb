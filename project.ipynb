{
 "cells": [
  {
   "cell_type": "markdown",
   "metadata": {},
   "source": [
    "<font size=5  color=#003366> **[LGBIO2020] - Bioinstrumentation <br><br> \n",
    "Project EEG classification : Open your eyes! ** </font> <br><br><br>\n",
    "\n",
    "<font size=5  color=#003366>\n",
    "Prof. M. Verleysen<br>\n",
    "Prof. A. Moureaux<br>\n",
    "\n",
    "<br><br>\n",
    "Anne-Sophie Collin (anne-sophie.collin@uclouvain.be)<br> \n",
    "<div style=\"text-align: right\"> Version 2020 </div>\n",
    "<br><br>\n",
    "</font>"
   ]
  },
  {
   "cell_type": "markdown",
   "metadata": {},
   "source": [
    "<font size=5 color=#009999> <b>GLOBAL CONTEXT </b> <br>\n",
    "DEFINITION OF EEG CLASSIFICATION \n",
    "</font> <br> <br>\n",
    "\n",
    "The aim of this project is to distinguish short segments of EEG signals recorded in a subject whose eyes are either closed or open along each segment. To reach this goal, you will work on a real dataset that you should have recorded by yourself during a practical session in Woluwe. You will have to pre-process the obtained dataset, extract relevant features and finally tackle the classification task. Some guidelines are given along this notebook. <b>You are allowed, and even encouraged, to skip/modify some of the proposed steps, as long as you provide some justifications. The comments/justifications that you will provide are crutial for this project! Writing code is not enough: You have to explain why you have taken your decisions.</b> <br>\n",
    "\n",
    "In addition to this notebook, you will be asked to write a report (pdf file - max. 5 pages) documenting all the choices that you have made regarding the processing steps. you should also present and comment your main results. Do not hesitate to consult books or internet ressources. This is allowed to use them to answer the questions as long as you cite your references.\n",
    "\n",
    "\n",
    "<br>\n",
    "\n",
    "<img src=\"imgs/GeneralContext.jpg\" width = \"600\">\n",
    "\n",
    "The context of this project is illustrated in the figure above found at this [reference](https://scielo.conicyt.cl/scielo.php?script=sci_arttext&pid=S0716-97602007000500005). First, you will be asked to extract short segments of EEG waves recorded during one of the two subject conditions: eyes open or eyes closed. Based on these segments, you will extract some usefull features that will help to summarize the information content in those segments. Then, you will train a classifier to predict whether a given new segment belongs to the \"eyes open\" or the \"eyes closed\" class. You will have to predict the performances you can obtain with this classification model.\n",
    "\n",
    "<br>\n",
    "\n",
    "\n",
    "<font size=5 color=#009999> <b> STRUCTURE OF THE PROJECT </b> <br>\n",
    "WHAT ARE THE MAIN STEPS?\n",
    "</font> <br> <br>\n",
    "\n",
    "The project is divided into three parts : Data Precprocessing, Feature Extraction and Classification. Those are illustrated in the figure below. \n",
    "\n",
    "   - In the first step, you will have to convert the entire recorded signal into segments that correspond either to the eyes closed or eyes open condition. During this phase, you will perfom basic signal processing operation to clean you data and make the classification easier. \n",
    "   - Then, based on the segments you have constructed, you will represent each of them by a concatenation of features. The idea is to decrease the dimensionality of the data to be handled easily by the classifier. They are a multitude ways of working. Be creative! \n",
    "   - Finally, you will train some classification models on your extracted features. You will have to estimate the performances obtained with the models.\n",
    "\n",
    "<img src=\"imgs/blockdiagram.png\" width = \"800\">\n",
    "\n",
    "\n",
    "Note that those operations have been adressed during the three practical sessions. Do not hesitate to base this project on the code/observations you have already made during those sessions. \n",
    "\n",
    "<br> \n",
    "\n",
    "\n",
    "<font size=5 color=#009999> <b> INSTRUCTIONS </b> <br>\n",
    "WORK BY GROUP AND DELIVERABLES\n",
    "</font> <br> <br>\n",
    "\n",
    "You can of course discuss about the project with other students, but your work has to be implemented either individually or in groups of two. You must submit on Moodle an archived folder containing:\n",
    "   \n",
    "   - Your notebook file with (at least) your codes and (eventually) small remarks. If it is necessary, you can join a README.txt file explaining how to run your codes. The results presented in your report should be reproducible with these codes. Make sure that we can compile them properly (for instance if you used a different toolbox than the ones provided on Moodle, you should include the associated files in your submission).\n",
    "   - A pdf report of maximum 5 pages that presents your results and justifies your choices. You can write it in English or in French. This report is very important! Do not neglet the writing. It is recommended to illustrate and comment as much as possible your results (when it applies).\n",
    "   \n",
    "Don’t forget to mention the name(s) of the author(s) in the notebook and in the report."
   ]
  },
  {
   "cell_type": "markdown",
   "metadata": {},
   "source": [
    "<br><br>\n",
    "\n",
    "\n",
    "<font size=6 color=#009999> <center><b>PART I - DATA PREPROCESSING </b></center> </font> <br> <br>\n",
    "\n",
    "<font size=5 color=#009999> <b>GENERAL INFORMATION </b> <br>\n",
    "HOW ARE THE DATA STORED?\n",
    "</font> <br> <br>\n",
    "\n",
    "The EEG signal on which we are working have been recorded in the Wolluwe's laboratory. These signals are stored in the file <samp>EEG_data.csv</samp>. This dataset includes 32 recording channels of scalp electrodes in the following order:\n",
    "\n",
    "$$ ch\\_names = ['Fp1', 'Fpz', 'Fp2', 'F7', 'F3', 'Fz', 'F4', 'F8', 'FC5', 'FC1', 'FC2', 'FC6', 'M1', 'T7', 'C3', 'CZ', 'C4', 'T8', 'M2', 'CP5', 'CP1', 'CP2', 'CP6', 'P7', 'P3', 'PZ', 'P4', 'P8', 'POz', 'O1', 'Oz', 'O2'] $$\n",
    "<img src=\"imgs/eeg_1020.png\" width = \"300\">\n",
    "\n",
    "The file has a $t \\times ch$ dimension, where $t$ is the number of recorded time steps and $ch$ is the number of electrodes).\n",
    "\n",
    "The sampling rate of these recordings is 1000Hz.\n",
    "\n",
    "In addition, the file <samp>target.csv</samp> contains a $t \\times 1$ vector indicating the condition of the subject for each time step. Its entries ∈ {0, 1, NaN} correspond to:\n",
    "   - 1: an eye-closed state\n",
    "   - 0: an eye-open state\n",
    "   - NaN: an additional unlabeled time step\n",
    "   \n",
    "<div class=\"alert alert-warning\">\n",
    "<b>[Question 1] Import the data and visualize them</b>  <br>\n",
    "Import the signal stored in the <samp>EEG_data.csv</samp> and <samp>target.csv</samp>. As usually in a machine learning process, a simple data visualization step will help you to understand the nature of the task. You can use the <samp>ecg_plot</samp> provided in the TP1 or any other provided function. Of course, you can modify this code if you want.\n",
    "</div> \n",
    "\n",
    "<div class=\"alert alert-info\">\n",
    "<b>[Remark] Do not display all your plots in the notebook </b>  <br>\n",
    "Especially in the early stage of the project, you will produce a lot of graphs to validate what you are doing. Showing all of them in the notebook can take a huge amount of space. The, you can save them in a separate folder (in the same location as you notebook file) to look at them. This is done with the <samp>file_path</samp> argument of the visualization functions provided in previous practical sessions.\n",
    "</div> "
   ]
  },
  {
   "cell_type": "code",
   "execution_count": 68,
   "metadata": {
    "scrolled": true
   },
   "outputs": [
    {
     "ename": "TypeError",
     "evalue": "'bool' object is not subscriptable",
     "output_type": "error",
     "traceback": [
      "\u001b[1;31m---------------------------------------------------------------------------\u001b[0m",
      "\u001b[1;31mTypeError\u001b[0m                                 Traceback (most recent call last)",
      "\u001b[1;32m<ipython-input-68-b4019208c0a9>\u001b[0m in \u001b[0;36m<module>\u001b[1;34m\u001b[0m\n\u001b[0;32m     14\u001b[0m \u001b[0meeg\u001b[0m \u001b[1;33m=\u001b[0m \u001b[0mnp\u001b[0m\u001b[1;33m.\u001b[0m\u001b[0mtranspose\u001b[0m\u001b[1;33m(\u001b[0m\u001b[0mdata\u001b[0m\u001b[1;33m.\u001b[0m\u001b[0mvalues\u001b[0m\u001b[1;33m)\u001b[0m\u001b[1;33m\u001b[0m\u001b[1;33m\u001b[0m\u001b[0m\n\u001b[0;32m     15\u001b[0m \u001b[1;33m\u001b[0m\u001b[0m\n\u001b[1;32m---> 16\u001b[1;33m \u001b[0mecg_plot\u001b[0m\u001b[1;33m(\u001b[0m\u001b[0meeg\u001b[0m\u001b[1;33m,\u001b[0m \u001b[0mch_names\u001b[0m\u001b[1;33m,\u001b[0m \u001b[1;32mTrue\u001b[0m\u001b[1;33m)\u001b[0m\u001b[1;33m\u001b[0m\u001b[1;33m\u001b[0m\u001b[0m\n\u001b[0m",
      "\u001b[1;32m~\\LGBIO2020-projet\\make_graphs.py\u001b[0m in \u001b[0;36mecg_plot\u001b[1;34m(ecg_signals, show_fig, ch_names, file_path)\u001b[0m\n\u001b[0;32m     82\u001b[0m         \u001b[0mplt\u001b[0m\u001b[1;33m.\u001b[0m\u001b[0mplot\u001b[0m\u001b[1;33m(\u001b[0m\u001b[0mtime\u001b[0m\u001b[1;33m,\u001b[0m \u001b[0mecg_signals\u001b[0m\u001b[1;33m[\u001b[0m\u001b[0midx\u001b[0m\u001b[1;33m-\u001b[0m\u001b[1;36m1\u001b[0m\u001b[1;33m]\u001b[0m\u001b[1;33m,\u001b[0m  \u001b[0mlinewidth\u001b[0m\u001b[1;33m=\u001b[0m\u001b[1;36m1\u001b[0m\u001b[1;33m)\u001b[0m\u001b[1;33m\u001b[0m\u001b[1;33m\u001b[0m\u001b[0m\n\u001b[0;32m     83\u001b[0m         \u001b[0mplt\u001b[0m\u001b[1;33m.\u001b[0m\u001b[0mylim\u001b[0m\u001b[1;33m(\u001b[0m\u001b[0mbottom\u001b[0m\u001b[1;33m,\u001b[0m \u001b[0mtop\u001b[0m\u001b[1;33m)\u001b[0m\u001b[1;33m\u001b[0m\u001b[1;33m\u001b[0m\u001b[0m\n\u001b[1;32m---> 84\u001b[1;33m         \u001b[0mplt\u001b[0m\u001b[1;33m.\u001b[0m\u001b[0mtitle\u001b[0m\u001b[1;33m(\u001b[0m\u001b[0mch_names\u001b[0m\u001b[1;33m[\u001b[0m\u001b[0midx\u001b[0m\u001b[1;33m-\u001b[0m\u001b[1;36m1\u001b[0m\u001b[1;33m]\u001b[0m\u001b[1;33m)\u001b[0m\u001b[1;33m\u001b[0m\u001b[1;33m\u001b[0m\u001b[0m\n\u001b[0m\u001b[0;32m     85\u001b[0m \u001b[1;33m\u001b[0m\u001b[0m\n\u001b[0;32m     86\u001b[0m     \u001b[1;31m#ax0.set_ylabel('Amplitude (mv)')\u001b[0m\u001b[1;33m\u001b[0m\u001b[1;33m\u001b[0m\u001b[1;33m\u001b[0m\u001b[0m\n",
      "\u001b[1;31mTypeError\u001b[0m: 'bool' object is not subscriptable"
     ]
    },
    {
     "data": {
      "image/png": "[encoded data removed]",
      "text/plain": [
       "<Figure size 1152x576 with 1 Axes>"
      ]
     },
     "metadata": {
      "needs_background": "light"
     },
     "output_type": "display_data"
    }
   ],
   "source": [
    "import pandas as pd\n",
    "import numpy as np\n",
    "from make_graphs import *\n",
    "\n",
    "# -------------------------------------------------------------------------------------\\\n",
    "# 1. Read the data\n",
    "# -------------------------------------------------------------------------------------\\\n",
    "    \n",
    "nb_channels = 32\n",
    "sf = 1000\n",
    "#ch_names = [′𝐹𝑝1′,′𝐹𝑝𝑧′,′𝐹𝑝2′,′𝐹7′,′𝐹3′,′𝐹𝑧′,′𝐹4′,′𝐹8′,′𝐹𝐶5′,′𝐹𝐶1′,′𝐹𝐶2′,′𝐹𝐶6′,′𝑀1′,′𝑇7′,′𝐶3′,′𝐶𝑍′,′𝐶4′,′𝑇8′,′𝑀2′,′𝐶𝑃5′,′𝐶𝑃1′,′𝐶𝑃2′,′C𝑃6′,′𝑃7′,′𝑃3′,′𝑃𝑍′,′𝑃4′,′𝑃8′,′𝑃𝑂𝑧′,′𝑂1′,′𝑂𝑧′,′𝑂2′]\n",
    "ch_names = [\"Fp1\",\"Fpz\",\"Fp2\",\"F7\",\"F3\",\"Fz\",\"F4\",\"F8\",\"FC5\",\"FC1\",\"FC2\",\"FC6\",\"M1\",\"T7\",\"C3\",\"CZ\",\"C4\",\"T8\",\"M2\",\"CP5\",\"CP1\",\"CP2\",\"CP6\",\"P7\",\"P3\",\"PZ\",\"P4\",\"P8\",\"POz\",\"O1\",\"Oz\",\"O2\"]\n",
    "data = pd.read_table('Data/EEG_data.csv', sep=\",\", header=None)\n",
    "eeg = np.transpose(data.values)\n",
    "\n",
    "ecg_plot(eeg, ch_names, True)"
   ]
  },
  {
   "cell_type": "markdown",
   "metadata": {},
   "source": [
    "When ploting all the signals, we observe on most of them \"square-shaped\" saccades that are the result of the open-close eyes movements."
   ]
  },
  {
   "cell_type": "markdown",
   "metadata": {},
   "source": [
    "Remarques"
   ]
  },
  {
   "cell_type": "markdown",
   "metadata": {},
   "source": [
    "<font size=5 color=#009999> <b>PREPROCESSING </b> <br>\n",
    "DO YOU WANT TO CLEAN YOUR DATA?\n",
    "</font> <br> <br>\n",
    "\n",
    "Before trying to classify the different EEG segments, you may consider some pre-processing steps aiming to remove as much as possible the undesirable components in your signals. For this part, visual inspection of your signals in the time and frequency domains can be very useful. Hereunder are some suggestions that you may consider.\n",
    "\n",
    "Some pre-processing steps are better carried out on the entire continuous data, when they are intended to remove noise affecting the whole recording. For instance:\n",
    "   - you can band-pass/high-pass/low-pass filter your multi-channel EEG. Applying frequency filters before segmenting the epochs is recommended to avoid including too much border effects. The purpose of this step is to only keep the frequencies that can be relevant from a physiological point of view (you may also remove the noise induced by the power line). Which frequency range do you consider? Justify, based on the length of each epoch, data visualization, physiological reasons,....\n",
    "   \n",
    "   - reject some electrodes (this step can also be performed on the segmented data). You can detect, for instance by visual inspection, whether some electrodes seem to be noisy. If you remove some electrodes, give their names and justify your decisions.\n",
    "   \n",
    "   - perform an ICA to filter out specific noise components (if you see any). As a reminder, if $X\\in \\mathbb{R}^\\text{n_chan} \\times \\text{n_time} $ denotes the EEG signals, ICA computes an estimate $A$ of the mixing matrix such that\n",
    "\t$$ X  = A\\cdot S = \\sum\\limits_{i = 1}^{\\text{n_sources}} A_{:i}\\cdot S_{i:} $$\n",
    "\t where $S$ is the matrix containing the time courses of the estimated sources (one source per row), $S_{i:}$ is its $i^{\\text{th}}$ row and $A_{:i}$ the $i^{\\text{th}}$ column of the mixing matrix. Therefore, it is straightforward to remove the contribution of some given sources which are supposed to reflect noise ICs by re-mixing the other ICs. Note that IC $i$ has a constant *spatial pattern* given by $A_{:i}$.\n",
    "     \n",
    "<div class=\"alert alert-warning\">\n",
    "<b>[Question 2] Clean your data </b>  <br>\n",
    "Decide wether or not you want to preprocess you data. Explain and comment why you made this choice and why you chose a specific method among other. Provide detailed answers!\n",
    "</div> "
   ]
  },
  {
   "cell_type": "markdown",
   "metadata": {},
   "source": [
    "We decided to apply a low-pass filter to get rid of the noise present on the signals. After that, we observe that we can reject some of the electrodes because the signal related to them does not present the caracteristic \"square-shaped\" saccades presents in most of the signals. Those are the FC5, FC1, FC2, FC6 and CZ electrodes."
   ]
  },
  {
   "cell_type": "code",
   "execution_count": 69,
   "metadata": {},
   "outputs": [],
   "source": [
    "import scipy.ndimage as im\n",
    "from scipy.signal import *\n",
    "import mne \n",
    "\n",
    "# ------ Band-pass filter ------ #\n",
    "\n",
    "def butter_bandpass(lowcut, highcut, fs, order=5):\n",
    "    nyq = 0.5 * fs\n",
    "    low = lowcut / nyq\n",
    "    high = highcut / nyq\n",
    "    sos = butter(order, [low, high], analog=False, btype='band', output = 'sos')\n",
    "    return sos\n",
    "\n",
    "\n",
    "def butter_bandpass_filter(data, lowcut, highcut, fs, order=1):\n",
    "    sos = butter_bandpass(lowcut, highcut, fs, order=order)\n",
    "    y = sosfilt(sos, data)\n",
    "    return y\n",
    "\n",
    "# -------------------------------------------------------------------------------------\\\n",
    "# 1. Data processing\n",
    "# -------------------------------------------------------------------------------------\\\n",
    "\n",
    "(x, y) = eeg.shape\n",
    "filtered_data = np.ndarray((x-5, y))\n",
    "new_names = []\n",
    "j = 0\n",
    "for i in range(eeg.shape[0]):\n",
    "    if ch_names[i] not in [\"FC5\",\"FC1\",\"FC2\",\"FC6\",\"CZ\"]:\n",
    "        #filtered_data[i-j] = butter_bandpass_filter(eeg[i], 1, 100, sf)\n",
    "        filtered_data[i-j] = eeg[i]\n",
    "        new_names.append(ch_names[i])\n",
    "    else:\n",
    "        j = j + 1\n",
    "\n",
    "#--------------------------\n",
    "\n",
    "info = mne.create_info(new_names, 1000, ch_types=[\"eeg\"] * (nb_channels-5))\n",
    "raw  = mne.io.RawArray(filtered_data, info)\n",
    "raw.set_montage(\"standard_1020\", on_missing='ignore')\n",
    "\n",
    "ICA = mne.preprocessing.ICA(method=\"infomax\", random_state=1)\n",
    "ica = ICA.fit(raw)\n",
    "ica.plot_components()\n",
    "ica.plot_overlay(raw)\n",
    "filtered_data2 = ica.apply(raw)\n",
    "#print(filtered_data2[26])\n",
    "fdata = filtered_data2.get_data()"
   ]
  },
  {
   "cell_type": "markdown",
   "metadata": {},
   "source": [
    "<font size=5 color=#009999> <b> CONSTRUCT YOUR TRAINING SAMPLES </b> <br>\n",
    "SEGMENT THE SIGNALS INTO SHORT SEGMENTS\n",
    "</font> <br> <br>\n",
    "\n",
    "Based on the vector target, you can separate your data in segments recorded during the two different conditions (eyes closed or open). You can now take other choices : \n",
    "   -  since the subject was asked to close or open her eyes at the beginning of each segment, there should be a time lag between the beginning of each segment and the actual moment when the subject’s state change. Do you observe the state changes? Illustrate. If the state change always occurs after around $x$ seconds, you should discard the first $x$ seconds of each of your segments before trying to classify them.\n",
    "   - you may remove the DC trend of each epoch.\n",
    "   - reject some epochs if you think that they are too noisy, based on visual inspection in the time and/or frequency domains. Explain why it is preferable to (not) remove segments from your dataset. If you reject some segments, illustrate.\n",
    "   - you can re-reference the signals. If you decide to do so, which reference do you choose? Why?\n",
    "   \n",
    "Do not hesitate to consider different or additional denoising techniques. Justify your choices.\n",
    "   \n",
    "<div class=\"alert alert-warning\">\n",
    "<b>[Question 3] Segment your data </b>  <br>\n",
    "Segment the entire time signal into short segments. Each segment will constitue one training/validation/test sample of your final dataset. Justify if you decided to implement one of the propositions above.\n",
    "</div> "
   ]
  },
  {
   "cell_type": "markdown",
   "metadata": {},
   "source": [
    "segmented_data = tableau d'electrodes\n",
    "1 entrée du tableau d'electrodes = tableau avec 2 entrées : oeil ouvert et oeil fermé\n",
    "1 de ces entrées = tableau segments"
   ]
  },
  {
   "cell_type": "code",
   "execution_count": 126,
   "metadata": {
    "scrolled": true
   },
   "outputs": [],
   "source": [
    "import matplotlib.pyplot as plt\n",
    "from derive import derive\n",
    "from make_graphs import ecg_plotbis\n",
    "\n",
    "target_file = pd.read_table('Data/target.csv', sep=\"\\n\", header=None)\n",
    "target = target_file[0]\n",
    "l = len(target)\n",
    "\n",
    "\n",
    "#plt.plot(np.linspace(0, len(target)/1000, len(target)), target)\n",
    "\n",
    "if not(\"segments\" in globals()):\n",
    "    segments = [20576]\n",
    "    for i in range(20576, 647213):\n",
    "        if (target[i] != target[i+1]):\n",
    "            segments.append(i+1)\n",
    "\n",
    "#ecg_plotbis(filtered_data, True, new_names, segments)\n",
    "segmented_data = []\n",
    "data_to_tree = []\n",
    "target_to_tree = []\n",
    "for j in range(len(fdata)):\n",
    "    segmented_data.append([])\n",
    "    segmented_data[j].append([])\n",
    "    segmented_data[j].append([])\n",
    "    for i in range(len(segments)-1):\n",
    "        segmented_data[j][i%2].append(fdata[j][segments[i]+1000:segments[i+1]])\n",
    "        #plt.plot(fdata[j][segments[i]+1000:segments[i+1]])\n",
    "        data_to_tree.append(fdata[j][segments[i]+1000:segments[i+1]])\n",
    "        target_to_tree.append(i%2)\n",
    "        \n",
    "data_to_tree = np.array(data_to_tree)\n",
    "target_to_tree = np.array(target_to_tree)\n",
    "    #plt.show()\n",
    "#for i in range(filtered_data.shape[0]):\n",
    "#    d = derive(filtered_data[i], 1000)\n",
    "#    for j in range(len(segments)-1):\n",
    "#        print(np.where(d == max(d[segments[j]:segments[j]+1000]))[0][0] - segments[j])\n"
   ]
  },
  {
   "cell_type": "markdown",
   "metadata": {},
   "source": [
    "\n",
    "\n"
   ]
  },
  {
   "cell_type": "markdown",
   "metadata": {},
   "source": [
    "<br><br>\n",
    "\n",
    "<font size=6 color=#009999> <center><b>PART II - FEATURE EXTRACTION </b></center> </font> <br> <br>\n",
    "\n",
    "<font size=5 color=#009999> <b>GENERAL INFORMATION </b> <br>\n",
    "WHAT CAN BE CONSIDERED?\n",
    "</font> <br> <br>\n",
    "\n",
    "To be able to classify your EEG segments, you must define the features on which you will apply the classification algorithms. These features should somehow summarize as best as possible the ‘useful’ information contained in an EEG segment.\n",
    "   - A first idea is to keep as features all the amplitudes of the EEG signals. However, this technique may have some drawbacks. For instance, you will end up with $ch \\times t$ features. How does this number compare with the number of available segments to classify? What do you think about using such features?\n",
    "   - Another option is to consider the power of a relevant subset of the channels in different physiological frequency bands. In this case, you will have $n\\_selected\\_chan \\times n\\_freq$ features, where n_freq is the number of frequency bands considered. Why would such features be sound?\n",
    "   \n",
    "Feel free to consider different features as well. Do not forget to give and comment their definition in the report.\n",
    "\n",
    "<div class=\"alert alert-info\">\n",
    "<b>[Remark] Look at your data </b>  <br>\n",
    "It is often a good idea to try visualizing the extracted features. A first simple way to do so is to plot the mean of each feature in both classes: do you observe some differences? Was it expected, from a physiological point of view? Is it necessary to keep all the defined features? Do you identify different ‘kinds of channels’ that can both be helpful for the classification, but reflecting different physiological mechanisms? Explain which channels you consider and why.\n",
    "</div>\n",
    "\n",
    "The feature extraction may be followed by a feature selection step. You can follow the method(s) proposed during the third practical session (on classification algorithms).\n",
    "\n",
    "<div class=\"alert alert-warning\">\n",
    "<b>[Question 4] Create your feature space </b>  <br>\n",
    "Explain your methodology to create relevant features out of the segments you have obtained before.\n",
    "</div> "
   ]
  },
  {
   "cell_type": "markdown",
   "metadata": {},
   "source": [
    "(If needed...) Write here your comments/observations about the code related to the Question 4 here. Main observations should be included in the report. "
   ]
  },
  {
   "cell_type": "code",
   "execution_count": 112,
   "metadata": {
    "scrolled": true
   },
   "outputs": [],
   "source": [
    "from scipy import signal\n",
    "from scipy.integrate import simps\n",
    "\n",
    "extracted_data = []\n",
    "extracted_data2 = []\n",
    "extracted_target = []\n",
    "\n",
    "for i in range(len(segmented_data)):\n",
    "    for k in [0, 1]:\n",
    "        for j in range(len(segmented_data[i][k])):\n",
    "            freqs, psd = signal.welch(segmented_data[i][k][j], sf, nperseg = 2000)\n",
    "            idx_delta = np.logical_and(freqs >= 0, freqs <= 4)\n",
    "            delta = simps(psd[idx_delta], dx = freqs[1]-freqs[0])\n",
    "            idx_theta = np.logical_and(freqs >= 4, freqs <= 7)\n",
    "            theta = simps(psd[idx_theta], dx = freqs[1]-freqs[0])\n",
    "            idx_alpha = np.logical_and(freqs >= 7, freqs <= 12)\n",
    "            alpha = simps(psd[idx_alpha], dx = freqs[1]-freqs[0])\n",
    "            idx_beta = np.logical_and(freqs >= 12, freqs <= 30)\n",
    "            beta = simps(psd[idx_beta], dx = freqs[1]-freqs[0])\n",
    "            idx_gamma = np.logical_and(freqs >= 30, freqs <= 100)\n",
    "            gamma = simps(psd[idx_gamma], dx = freqs[1]-freqs[0])\n",
    "            extracted_data.append([delta, theta, alpha, beta, gamma])\n",
    "            extracted_data2.append([np.mean(segmented_data[i][k][j])])\n",
    "            extracted_target.append(k)\n",
    "extracted_target = np.array(extracted_target)"
   ]
  },
  {
   "cell_type": "markdown",
   "metadata": {},
   "source": [
    "<br><br>\n",
    "\n",
    "<font size=6 color=#009999> <center><b>PART III - CLASSIFICATION </b></center> </font> <br> <br>\n",
    "\n",
    "<font size=5 color=#009999> <b>GENERAL INFORMATION </b> <br>\n",
    "WHAT CAN BE CONSIDERED?\n",
    "</font> <br> <br>\n",
    "\n",
    "In order to assess whether the features defined above allow to discriminate between the two conditions (eyes closed or open), you will use classification algorithms. For this task, you are advised to follow the instructions given for the third practical session. In particular, you should consider using a K-Fold cross validation to evaluate your classifiers.\n",
    "You are asked to use at least two classifiers among the following ones:\n",
    "   - K-nearest neighbors (kNN)\n",
    "   - Decision tree\n",
    "   - Neural network\n",
    "   - SVM\n",
    "   \n",
    "<div class=\"alert alert-warning\">\n",
    "<b>[Question 5] Evalueate your classifier </b>  <br>\n",
    "Report the performances obtained with your classifiers (in terms of accuracy) and give some comments. Give also the hyper-parameters of your algorithms (e.g. number of neurons for mlp, kernel for SVM) and explain how you choose them. You can compare the classification accuracies obtained using different feature sets. For instance, do you obtain better results if you perform a dimensionality reduction (e.g. using PCA) before? (Or if you only use a subset of your features?)\n",
    "</div> "
   ]
  },
  {
   "cell_type": "markdown",
   "metadata": {},
   "source": [
    "(If needed...) Write here your comments/observations about the code related to the Question 5 here. Main observations should be included in the report. "
   ]
  },
  {
   "cell_type": "code",
   "execution_count": 117,
   "metadata": {
    "scrolled": false
   },
   "outputs": [
    {
     "name": "stdout",
     "output_type": "stream",
     "text": [
      "[0.9389830508474576, 0.911864406779661, 0.9186440677966101, 0.9421768707482994, 0.9217687074829932, 0.9251700680272109, 0.9285714285714286, 0.935374149659864, 0.9421768707482994, 0.9047619047619048]\n",
      "0.926949152542373\n"
     ]
    }
   ],
   "source": [
    "#------------ SVM ------------#\n",
    "\n",
    "from sklearn.svm import SVC\n",
    "from sklearn.model_selection import KFold\n",
    "from sklearn.preprocessing import StandardScaler\n",
    "\n",
    "scaler = StandardScaler()\n",
    "Datas = scaler.fit_transform(extracted_data)\n",
    "kf = KFold(n_splits = 10, shuffle = True)\n",
    "scores = []\n",
    "for train_index, test_index in kf.split(Datas):\n",
    "    Data_train, Data_test = Datas[train_index], Datas[test_index]\n",
    "    target_train = extracted_target[train_index]\n",
    "    target_test = extracted_target[test_index]\n",
    "\n",
    "    model = SVC(kernel = 'rbf', degree = 3, gamma = 'scale')\n",
    "\n",
    "    model.fit(Data_train, target_train)\n",
    "\n",
    "    scores.append(model.score(Data_test, target_test))\n",
    "    \n",
    "print(scores)\n",
    "print(np.mean(scores))"
   ]
  },
  {
   "cell_type": "code",
   "execution_count": 127,
   "metadata": {},
   "outputs": [
    {
     "ename": "ValueError",
     "evalue": "setting an array element with a sequence.",
     "output_type": "error",
     "traceback": [
      "\u001b[1;31m---------------------------------------------------------------------------\u001b[0m",
      "\u001b[1;31mValueError\u001b[0m                                Traceback (most recent call last)",
      "\u001b[1;32m<ipython-input-127-40297debb453>\u001b[0m in \u001b[0;36m<module>\u001b[1;34m\u001b[0m\n\u001b[0;32m     10\u001b[0m     \u001b[0mtarget_test\u001b[0m \u001b[1;33m=\u001b[0m \u001b[0mtarget_to_tree\u001b[0m\u001b[1;33m[\u001b[0m\u001b[0mtest_index\u001b[0m\u001b[1;33m]\u001b[0m\u001b[1;33m\u001b[0m\u001b[1;33m\u001b[0m\u001b[0m\n\u001b[0;32m     11\u001b[0m \u001b[0mclf\u001b[0m \u001b[1;33m=\u001b[0m \u001b[0mDecisionTreeClassifier\u001b[0m\u001b[1;33m(\u001b[0m\u001b[1;33m)\u001b[0m\u001b[1;33m\u001b[0m\u001b[1;33m\u001b[0m\u001b[0m\n\u001b[1;32m---> 12\u001b[1;33m \u001b[0mclf\u001b[0m\u001b[1;33m.\u001b[0m\u001b[0mfit\u001b[0m\u001b[1;33m(\u001b[0m\u001b[0mdata_to_tree\u001b[0m\u001b[1;33m,\u001b[0m \u001b[0mtarget_to_tree\u001b[0m\u001b[1;33m)\u001b[0m\u001b[1;33m\u001b[0m\u001b[1;33m\u001b[0m\u001b[0m\n\u001b[0m\u001b[0;32m     13\u001b[0m \u001b[0mplot_tree\u001b[0m\u001b[1;33m(\u001b[0m\u001b[0mclf\u001b[0m\u001b[1;33m,\u001b[0m \u001b[0mfilled\u001b[0m \u001b[1;33m=\u001b[0m \u001b[1;32mTrue\u001b[0m\u001b[1;33m)\u001b[0m\u001b[1;33m\u001b[0m\u001b[1;33m\u001b[0m\u001b[0m\n",
      "\u001b[1;32mD:\\Anaconda3\\lib\\site-packages\\sklearn\\tree\\tree.py\u001b[0m in \u001b[0;36mfit\u001b[1;34m(self, X, y, sample_weight, check_input, X_idx_sorted)\u001b[0m\n\u001b[0;32m    814\u001b[0m             \u001b[0msample_weight\u001b[0m\u001b[1;33m=\u001b[0m\u001b[0msample_weight\u001b[0m\u001b[1;33m,\u001b[0m\u001b[1;33m\u001b[0m\u001b[1;33m\u001b[0m\u001b[0m\n\u001b[0;32m    815\u001b[0m             \u001b[0mcheck_input\u001b[0m\u001b[1;33m=\u001b[0m\u001b[0mcheck_input\u001b[0m\u001b[1;33m,\u001b[0m\u001b[1;33m\u001b[0m\u001b[1;33m\u001b[0m\u001b[0m\n\u001b[1;32m--> 816\u001b[1;33m             X_idx_sorted=X_idx_sorted)\n\u001b[0m\u001b[0;32m    817\u001b[0m         \u001b[1;32mreturn\u001b[0m \u001b[0mself\u001b[0m\u001b[1;33m\u001b[0m\u001b[1;33m\u001b[0m\u001b[0m\n\u001b[0;32m    818\u001b[0m \u001b[1;33m\u001b[0m\u001b[0m\n",
      "\u001b[1;32mD:\\Anaconda3\\lib\\site-packages\\sklearn\\tree\\tree.py\u001b[0m in \u001b[0;36mfit\u001b[1;34m(self, X, y, sample_weight, check_input, X_idx_sorted)\u001b[0m\n\u001b[0;32m    128\u001b[0m         \u001b[0mrandom_state\u001b[0m \u001b[1;33m=\u001b[0m \u001b[0mcheck_random_state\u001b[0m\u001b[1;33m(\u001b[0m\u001b[0mself\u001b[0m\u001b[1;33m.\u001b[0m\u001b[0mrandom_state\u001b[0m\u001b[1;33m)\u001b[0m\u001b[1;33m\u001b[0m\u001b[1;33m\u001b[0m\u001b[0m\n\u001b[0;32m    129\u001b[0m         \u001b[1;32mif\u001b[0m \u001b[0mcheck_input\u001b[0m\u001b[1;33m:\u001b[0m\u001b[1;33m\u001b[0m\u001b[1;33m\u001b[0m\u001b[0m\n\u001b[1;32m--> 130\u001b[1;33m             \u001b[0mX\u001b[0m \u001b[1;33m=\u001b[0m \u001b[0mcheck_array\u001b[0m\u001b[1;33m(\u001b[0m\u001b[0mX\u001b[0m\u001b[1;33m,\u001b[0m \u001b[0mdtype\u001b[0m\u001b[1;33m=\u001b[0m\u001b[0mDTYPE\u001b[0m\u001b[1;33m,\u001b[0m \u001b[0maccept_sparse\u001b[0m\u001b[1;33m=\u001b[0m\u001b[1;34m\"csc\"\u001b[0m\u001b[1;33m)\u001b[0m\u001b[1;33m\u001b[0m\u001b[1;33m\u001b[0m\u001b[0m\n\u001b[0m\u001b[0;32m    131\u001b[0m             \u001b[0my\u001b[0m \u001b[1;33m=\u001b[0m \u001b[0mcheck_array\u001b[0m\u001b[1;33m(\u001b[0m\u001b[0my\u001b[0m\u001b[1;33m,\u001b[0m \u001b[0mensure_2d\u001b[0m\u001b[1;33m=\u001b[0m\u001b[1;32mFalse\u001b[0m\u001b[1;33m,\u001b[0m \u001b[0mdtype\u001b[0m\u001b[1;33m=\u001b[0m\u001b[1;32mNone\u001b[0m\u001b[1;33m)\u001b[0m\u001b[1;33m\u001b[0m\u001b[1;33m\u001b[0m\u001b[0m\n\u001b[0;32m    132\u001b[0m             \u001b[1;32mif\u001b[0m \u001b[0missparse\u001b[0m\u001b[1;33m(\u001b[0m\u001b[0mX\u001b[0m\u001b[1;33m)\u001b[0m\u001b[1;33m:\u001b[0m\u001b[1;33m\u001b[0m\u001b[1;33m\u001b[0m\u001b[0m\n",
      "\u001b[1;32mD:\\Anaconda3\\lib\\site-packages\\sklearn\\utils\\validation.py\u001b[0m in \u001b[0;36mcheck_array\u001b[1;34m(array, accept_sparse, accept_large_sparse, dtype, order, copy, force_all_finite, ensure_2d, allow_nd, ensure_min_samples, ensure_min_features, warn_on_dtype, estimator)\u001b[0m\n\u001b[0;32m    494\u001b[0m             \u001b[1;32mtry\u001b[0m\u001b[1;33m:\u001b[0m\u001b[1;33m\u001b[0m\u001b[1;33m\u001b[0m\u001b[0m\n\u001b[0;32m    495\u001b[0m                 \u001b[0mwarnings\u001b[0m\u001b[1;33m.\u001b[0m\u001b[0msimplefilter\u001b[0m\u001b[1;33m(\u001b[0m\u001b[1;34m'error'\u001b[0m\u001b[1;33m,\u001b[0m \u001b[0mComplexWarning\u001b[0m\u001b[1;33m)\u001b[0m\u001b[1;33m\u001b[0m\u001b[1;33m\u001b[0m\u001b[0m\n\u001b[1;32m--> 496\u001b[1;33m                 \u001b[0marray\u001b[0m \u001b[1;33m=\u001b[0m \u001b[0mnp\u001b[0m\u001b[1;33m.\u001b[0m\u001b[0masarray\u001b[0m\u001b[1;33m(\u001b[0m\u001b[0marray\u001b[0m\u001b[1;33m,\u001b[0m \u001b[0mdtype\u001b[0m\u001b[1;33m=\u001b[0m\u001b[0mdtype\u001b[0m\u001b[1;33m,\u001b[0m \u001b[0morder\u001b[0m\u001b[1;33m=\u001b[0m\u001b[0morder\u001b[0m\u001b[1;33m)\u001b[0m\u001b[1;33m\u001b[0m\u001b[1;33m\u001b[0m\u001b[0m\n\u001b[0m\u001b[0;32m    497\u001b[0m             \u001b[1;32mexcept\u001b[0m \u001b[0mComplexWarning\u001b[0m\u001b[1;33m:\u001b[0m\u001b[1;33m\u001b[0m\u001b[1;33m\u001b[0m\u001b[0m\n\u001b[0;32m    498\u001b[0m                 raise ValueError(\"Complex data not supported\\n\"\n",
      "\u001b[1;32mD:\\Anaconda3\\lib\\site-packages\\numpy\\core\\numeric.py\u001b[0m in \u001b[0;36masarray\u001b[1;34m(a, dtype, order)\u001b[0m\n\u001b[0;32m    536\u001b[0m \u001b[1;33m\u001b[0m\u001b[0m\n\u001b[0;32m    537\u001b[0m     \"\"\"\n\u001b[1;32m--> 538\u001b[1;33m     \u001b[1;32mreturn\u001b[0m \u001b[0marray\u001b[0m\u001b[1;33m(\u001b[0m\u001b[0ma\u001b[0m\u001b[1;33m,\u001b[0m \u001b[0mdtype\u001b[0m\u001b[1;33m,\u001b[0m \u001b[0mcopy\u001b[0m\u001b[1;33m=\u001b[0m\u001b[1;32mFalse\u001b[0m\u001b[1;33m,\u001b[0m \u001b[0morder\u001b[0m\u001b[1;33m=\u001b[0m\u001b[0morder\u001b[0m\u001b[1;33m)\u001b[0m\u001b[1;33m\u001b[0m\u001b[1;33m\u001b[0m\u001b[0m\n\u001b[0m\u001b[0;32m    539\u001b[0m \u001b[1;33m\u001b[0m\u001b[0m\n\u001b[0;32m    540\u001b[0m \u001b[1;33m\u001b[0m\u001b[0m\n",
      "\u001b[1;31mValueError\u001b[0m: setting an array element with a sequence."
     ]
    }
   ],
   "source": [
    "#------------ Decision tree ------------#\n",
    "\n",
    "from sklearn.tree import DecisionTreeClassifier, plot_tree\n",
    "\n",
    "kf = KFold(n_splits = 5, shuffle = True)\n",
    "scores = []\n",
    "for train_index, test_index in kf.split(data_to_tree):\n",
    "    Data_train, Data_test = data_to_tree[train_index], data_to_tree[test_index]\n",
    "    target_train = target_to_tree[train_index]\n",
    "    target_test = target_to_tree[test_index]\n",
    "clf = DecisionTreeClassifier()\n",
    "clf.fit(data_to_tree, target_to_tree)\n",
    "plot_tree(clf, filled = True)"
   ]
  },
  {
   "cell_type": "code",
   "execution_count": null,
   "metadata": {},
   "outputs": [],
   "source": []
  }
 ],
 "metadata": {
  "kernelspec": {
   "display_name": "Python 3",
   "language": "python",
   "name": "python3"
  },
  "language_info": {
   "codemirror_mode": {
    "name": "ipython",
    "version": 3
   },
   "file_extension": ".py",
   "mimetype": "text/x-python",
   "name": "python",
   "nbconvert_exporter": "python",
   "pygments_lexer": "ipython3",
   "version": "3.7.4"
  }
 },
 "nbformat": 4,
 "nbformat_minor": 2
}
